{
 "cells": [
  {
   "attachments": {},
   "cell_type": "markdown",
   "metadata": {},
   "source": [
    "Notebook for testing and development of ISC/ FDSN scraper"
   ]
  },
  {
   "cell_type": "code",
   "execution_count": 2,
   "metadata": {},
   "outputs": [],
   "source": [
    "import obspy\n",
    "from obspy.clients.fdsn.client import Client\n",
    "from obspy import UTCDateTime\n",
    "from obspy.geodetics import locations2degrees"
   ]
  },
  {
   "cell_type": "code",
   "execution_count": 3,
   "metadata": {},
   "outputs": [],
   "source": [
    "stla = 8.8\n",
    "stlo = 38.68\n",
    "start = UTCDateTime(\"2001-01-01T00:00:00\")\n",
    "end = UTCDateTime(\"2022-01-01T00:00:00\")"
   ]
  },
  {
   "cell_type": "code",
   "execution_count": 4,
   "metadata": {},
   "outputs": [
    {
     "name": "stdout",
     "output_type": "stream",
     "text": [
      "2400\n"
     ]
    }
   ],
   "source": [
    "client = Client('IRIS')\n",
    "events = client.get_events(starttime=start, endtime=end, minmagnitude=5.5,\n",
    "     maxmagnitude=7, catalog=\"ISC\", latitude=stla, longitude=stlo,\n",
    "     minradius=95, maxradius=120, magnitudetype=\"MW\")\n",
    "print(len(events))"
   ]
  },
  {
   "cell_type": "code",
   "execution_count": 5,
   "metadata": {},
   "outputs": [
    {
     "name": "stdout",
     "output_type": "stream",
     "text": [
      "119.91614342075106\n",
      "2370\n",
      "2370\n"
     ]
    }
   ],
   "source": [
    "events_over95 = []\n",
    "n = 0\n",
    "max_dist = 0\n",
    "\n",
    "for i, event in enumerate(events):\n",
    "    dist = locations2degrees(stla, stlo, event.origins[0].latitude, event.origins[0].longitude)\n",
    "    if dist >= 95:\n",
    "        events_over95.append(event)\n",
    "        n+=1\n",
    "        if dist > max_dist:\n",
    "            max_dist = dist\n",
    "    \n",
    "print(max_dist)        \n",
    "print(n)\n",
    "print(len(events_over95))"
   ]
  },
  {
   "attachments": {},
   "cell_type": "markdown",
   "metadata": {},
   "source": [
    "Make a random selection of 5 events for dev/testing purposes (so we dont have to use the full catalog)"
   ]
  },
  {
   "cell_type": "code",
   "execution_count": 16,
   "metadata": {},
   "outputs": [],
   "source": [
    "import numpy as np"
   ]
  },
  {
   "cell_type": "code",
   "execution_count": 33,
   "metadata": {},
   "outputs": [],
   "source": [
    "np.random.seed(112)\n",
    "ind = np.random.randint(0,2400,5)\n",
    "subset_list = []\n",
    "for i, event in enumerate(events):\n",
    "    if i in ind:\n",
    "        subset_list.append(event)"
   ]
  },
  {
   "cell_type": "code",
   "execution_count": 34,
   "metadata": {},
   "outputs": [],
   "source": [
    "subset = obspy.Catalog(subset_list)"
   ]
  },
  {
   "cell_type": "code",
   "execution_count": 36,
   "metadata": {},
   "outputs": [],
   "source": [
    "subset.write('Test_data.xml',format='QUAKEML')"
   ]
  },
  {
   "cell_type": "code",
   "execution_count": 40,
   "metadata": {},
   "outputs": [
    {
     "name": "stdout",
     "output_type": "stream",
     "text": [
      "[Origin(resource_id=ResourceIdentifier(id=\"smi:service.iris.edu/fdsnws/event/1/query?originid=22500062\"), time=UTCDateTime(2014, 4, 18, 18, 44, 18, 930000), longitude=-162.3453, latitude=67.6773, depth=18400.0, creation_info=CreationInfo(author='ISC'))]\n",
      "[Origin(resource_id=ResourceIdentifier(id=\"smi:service.iris.edu/fdsnws/event/1/query?originid=5319553\"), time=UTCDateTime(2011, 5, 24, 17, 43, 23, 870000), longitude=-173.2413, latitude=52.5429, depth=141900.0, creation_info=CreationInfo(author='ISC'))]\n",
      "[Origin(resource_id=ResourceIdentifier(id=\"smi:service.iris.edu/fdsnws/event/1/query?originid=16824277\"), time=UTCDateTime(2010, 6, 11, 16, 37, 50, 910000), longitude=142.6538, latitude=26.735, depth=28400.0, creation_info=CreationInfo(author='ISC'))]\n",
      "[Origin(resource_id=ResourceIdentifier(id=\"smi:service.iris.edu/fdsnws/event/1/query?originid=4859510\"), time=UTCDateTime(2009, 3, 30, 12, 7, 27, 840000), longitude=-178.1844, latitude=51.4975, depth=31000.0, creation_info=CreationInfo(author='ISC'))]\n",
      "[Origin(resource_id=ResourceIdentifier(id=\"smi:service.iris.edu/fdsnws/event/1/query?originid=2968952\"), time=UTCDateTime(2001, 4, 2, 6, 50, 4, 70000), longitude=147.385, latitude=11.845, depth=33000.0, creation_info=CreationInfo(author='ISC'))]\n"
     ]
    }
   ],
   "source": [
    "for event in subset:\n",
    "    print(event.origins)"
   ]
  },
  {
   "cell_type": "code",
   "execution_count": 42,
   "metadata": {},
   "outputs": [],
   "source": [
    "t1 = events[0].origins[0].time"
   ]
  },
  {
   "cell_type": "code",
   "execution_count": 43,
   "metadata": {},
   "outputs": [
    {
     "data": {
      "text/plain": [
       "2015-08-24T11:50:59.920000Z"
      ]
     },
     "execution_count": 43,
     "metadata": {},
     "output_type": "execute_result"
    }
   ],
   "source": [
    "t1"
   ]
  },
  {
   "cell_type": "code",
   "execution_count": 47,
   "metadata": {},
   "outputs": [],
   "source": [
    "import datetime\n",
    "dt = datetime.timedelta(seconds=3000)\n"
   ]
  },
  {
   "cell_type": "code",
   "execution_count": 49,
   "metadata": {},
   "outputs": [
    {
     "name": "stdout",
     "output_type": "stream",
     "text": [
      "2015-08-24T12:40:59.920000Z\n",
      "3000.0\n"
     ]
    }
   ],
   "source": [
    "t2 = t1 + dt\n",
    "print(t2)\n",
    "print(t2 - t1)"
   ]
  },
  {
   "cell_type": "code",
   "execution_count": 51,
   "metadata": {},
   "outputs": [],
   "source": [
    "from query_events import query_waveforms"
   ]
  },
  {
   "cell_type": "code",
   "execution_count": null,
   "metadata": {},
   "outputs": [],
   "source": [
    "query_waveforms()"
   ]
  },
  {
   "cell_type": "code",
   "execution_count": null,
   "metadata": {},
   "outputs": [],
   "source": []
  }
 ],
 "metadata": {
  "kernelspec": {
   "display_name": "devel",
   "language": "python",
   "name": "python3"
  },
  "language_info": {
   "codemirror_mode": {
    "name": "ipython",
    "version": 3
   },
   "file_extension": ".py",
   "mimetype": "text/x-python",
   "name": "python",
   "nbconvert_exporter": "python",
   "pygments_lexer": "ipython3",
   "version": "3.9.7"
  },
  "orig_nbformat": 4,
  "vscode": {
   "interpreter": {
    "hash": "eca13a65a8e7c2de15e96c9e34b41a2371a14688ae9c27f5eba56e6deffb757a"
   }
  }
 },
 "nbformat": 4,
 "nbformat_minor": 2
}
